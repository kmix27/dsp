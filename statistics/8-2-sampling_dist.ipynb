{
 "cells": [
  {
   "cell_type": "code",
   "execution_count": 34,
   "metadata": {
    "collapsed": true
   },
   "outputs": [],
   "source": [
    "%matplotlib inline\n",
    "import thinkstats2\n",
    "import thinkplot\n",
    "import math\n",
    "import random\n",
    "import numpy as np\n",
    "from estimation import RMSE, MeanError"
   ]
  },
  {
   "cell_type": "code",
   "execution_count": 36,
   "metadata": {
    "collapsed": false
   },
   "outputs": [
    {
     "name": "stdout",
     "output_type": "stream",
     "text": [
      "[0.8198239377844616, (1.3022980994704501, 3.5847572709907838), 2.2824591715203337]\n",
      "5 [1.3878214836164922, (1.0333809543686479, 4.8219173286879267), 3.7885363743192788]\n",
      "20 [0.5044979919071342, (1.4458313500955626, 2.9916282782639985), 1.5457969281684358]\n",
      "35 [0.37619987118671316, (1.5135026108768335, 2.7421072926612875), 1.228604681784454]\n",
      "50 [0.2951525510904301, (1.6052492067352435, 2.5604825537963136), 0.9552333470610701]\n",
      "65 [0.2543764840084139, (1.6530159648459781, 2.4934453740344269), 0.84042940918844877]\n",
      "80 [0.22542590622567943, (1.6880050839319642, 2.4048527306793903), 0.71684764674742607]\n",
      "95 [0.21338818668132842, (1.6870467102412436, 2.3947117684614518), 0.7076650582202082]\n",
      "110 [0.18358448116174658, (1.7360772673934199, 2.3274986815380343), 0.59142141414461435]\n",
      "125 [0.18189275627619927, (1.7122768160497088, 2.3076218279723548), 0.59534501192264599]\n",
      "140 [0.17403521012210593, (1.7408789953853061, 2.3107193677444915), 0.56984037235918539]\n",
      "155 [0.16550142201423088, (1.744876534384094, 2.2867189400022974), 0.5418424056182034]\n",
      "170 [0.1540213571176715, (1.7632036885616968, 2.2634788721263006), 0.50027518356460376]\n",
      "185 [0.15386438831541366, (1.7598729661771184, 2.2620333021591361), 0.5021603359820177]\n"
     ]
    }
   ],
   "source": [
    "def simulateSample(lam=2,n=10,m=1000):\n",
    "    means = []\n",
    "    medians = []\n",
    "    for _ in range(m):\n",
    "        xs = np.random.exponential(1.0/lam, n)\n",
    "        L = 1 / np.mean(xs)\n",
    "#         Lm = math.log(2) / thinkstats2.Median(xs)\n",
    "        means.append(L)\n",
    "#         medians.append(Lm)\n",
    "#     print('rmse L', RMSE(means,lam))\n",
    "#     print('rmse Lm',RMSE(medians, lam))\n",
    "#     print('mean error L', MeanError(means, lam))\n",
    "#     print('mean error Lm', MeanError(medians, lam))\n",
    "    cdf = thinkstats2.Cdf(means)\n",
    "    ci = cdf.Percentile(5), cdf.Percentile(95)\n",
    "    ciSpread = cdf.Percentile(95)-cdf.Percentile(5)\n",
    "#     print('confidence interval',ci)\n",
    "#     thinkplot.Cdf(cdf)\n",
    "#     thinkplot.show(root='estimation2',\n",
    "#                    xlabel='estimate',\n",
    "#                    ylabel='CDF',\n",
    "#                    title='Sampling distribution')\n",
    "    return [RMSE(means, lam),ci,ciSpread]\n",
    "def loopSample(start, stop, interval):\n",
    "    s = start\n",
    "    sp = stop\n",
    "    for x in range(s, sp, interval):\n",
    "        print(x, simulateSample(lam=2,n=x,m=1000))\n",
    "\n",
    "print(simulateSample())\n",
    "loopSample(5, 200,15) \n"
   ]
  }
 ],
 "metadata": {
  "kernelspec": {
   "display_name": "Python 3",
   "language": "python",
   "name": "python3"
  },
  "language_info": {
   "codemirror_mode": {
    "name": "ipython",
    "version": 3
   },
   "file_extension": ".py",
   "mimetype": "text/x-python",
   "name": "python",
   "nbconvert_exporter": "python",
   "pygments_lexer": "ipython3",
   "version": "3.5.2"
  }
 },
 "nbformat": 4,
 "nbformat_minor": 0
}
